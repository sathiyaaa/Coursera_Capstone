{
 "cells": [
  {
   "cell_type": "markdown",
   "metadata": {},
   "source": [
    "# Exploring Hotels near a famous Motel during Vacation"
   ]
  },
  {
   "cell_type": "markdown",
   "metadata": {},
   "source": [
    "People have come to the favorite vacation place in  the country - Coimbatore which is a city in southern INDIA.\n",
    "\n",
    "People want to explore for hotels near a motel that they are staying\n",
    "\n",
    "So I've got the information of all the hotels near the motel using the foursquare API and used it to construct the map using FOLIUM MAPS"
   ]
  },
  {
   "cell_type": "markdown",
   "metadata": {},
   "source": [
    "# DATA SOURCE"
   ]
  },
  {
   "cell_type": "markdown",
   "metadata": {},
   "source": [
    "The data used in the project is from Foursquare location Database. The data is obtained using the foursquare developer Client ID and secret key and the map is constructed"
   ]
  },
  {
   "cell_type": "markdown",
   "metadata": {},
   "source": [
    "Importing libraries"
   ]
  },
  {
   "cell_type": "code",
   "execution_count": 8,
   "metadata": {},
   "outputs": [
    {
     "name": "stdout",
     "output_type": "stream",
     "text": [
      "Done\n"
     ]
    }
   ],
   "source": [
    "import folium\n",
    "from geopy.geocoders import Nominatim \n",
    "import pandas as pd\n",
    "import numpy as np\n",
    "import requests \n",
    "from pandas.io.json import json_normalize\n",
    "from IPython.display import Image \n",
    "from IPython.core.display import HTML \n",
    "print('Done')\n",
    "\n"
   ]
  },
  {
   "cell_type": "markdown",
   "metadata": {},
   "source": [
    "Setting up my forusquare API"
   ]
  },
  {
   "cell_type": "code",
   "execution_count": 17,
   "metadata": {},
   "outputs": [],
   "source": [
    "CLIENT_ID = '0J0XCDTF30YW4JEWECV3YRA02GMCMULSVSE2BCULKVDUGB4Y'\n",
    "CLIENT_SECRET = 'O4EWEIYTRVLRLQ2UG4U3NNOWXJ3SD3HOG2E03QDKHFAVSPA0'\n",
    "LIMIT =30\n",
    "VERSION='20180604'"
   ]
  },
  {
   "cell_type": "markdown",
   "metadata": {},
   "source": [
    "Setting up my Location"
   ]
  },
  {
   "cell_type": "code",
   "execution_count": 18,
   "metadata": {},
   "outputs": [
    {
     "name": "stdout",
     "output_type": "stream",
     "text": [
      "11.0018115 76.9628425\n"
     ]
    }
   ],
   "source": [
    "city = 'Coimbatore'\n",
    "geolocator = Nominatim(user_agent=\"foursquare_agent\")\n",
    "location = geolocator.geocode(city)\n",
    "latitude = location.latitude\n",
    "longitude = location.longitude\n",
    "print(latitude, longitude)"
   ]
  },
  {
   "cell_type": "markdown",
   "metadata": {},
   "source": [
    "Searching for Hotels"
   ]
  },
  {
   "cell_type": "code",
   "execution_count": 28,
   "metadata": {},
   "outputs": [],
   "source": [
    "search_query = 'Hotel'\n",
    "radius = 1000\n",
    "url = 'https://api.foursquare.com/v2/venues/search?client_id={}&client_secret={}&ll={},{}&v={}&query={}&radius={}&limit={}'\\\n",
    ".format(CLIENT_ID, CLIENT_SECRET, latitude, longitude, VERSION, search_query, radius, LIMIT)\n",
    "url\n",
    "results = requests.get(url).json()\n",
    "#print(results['response']['venues'])"
   ]
  },
  {
   "cell_type": "markdown",
   "metadata": {},
   "source": [
    "Converting into Pandas dataframe"
   ]
  },
  {
   "cell_type": "code",
   "execution_count": 29,
   "metadata": {},
   "outputs": [
    {
     "data": {
      "text/html": [
       "<div>\n",
       "<style scoped>\n",
       "    .dataframe tbody tr th:only-of-type {\n",
       "        vertical-align: middle;\n",
       "    }\n",
       "\n",
       "    .dataframe tbody tr th {\n",
       "        vertical-align: top;\n",
       "    }\n",
       "\n",
       "    .dataframe thead th {\n",
       "        text-align: right;\n",
       "    }\n",
       "</style>\n",
       "<table border=\"1\" class=\"dataframe\">\n",
       "  <thead>\n",
       "    <tr style=\"text-align: right;\">\n",
       "      <th></th>\n",
       "      <th>categories</th>\n",
       "      <th>hasPerk</th>\n",
       "      <th>id</th>\n",
       "      <th>location.address</th>\n",
       "      <th>location.cc</th>\n",
       "      <th>location.city</th>\n",
       "      <th>location.country</th>\n",
       "      <th>location.crossStreet</th>\n",
       "      <th>location.distance</th>\n",
       "      <th>location.formattedAddress</th>\n",
       "      <th>location.labeledLatLngs</th>\n",
       "      <th>location.lat</th>\n",
       "      <th>location.lng</th>\n",
       "      <th>location.postalCode</th>\n",
       "      <th>location.state</th>\n",
       "      <th>name</th>\n",
       "      <th>referralId</th>\n",
       "    </tr>\n",
       "  </thead>\n",
       "  <tbody>\n",
       "    <tr>\n",
       "      <th>0</th>\n",
       "      <td>[{'id': '4bf58dd8d48988d1fa931735', 'name': 'H...</td>\n",
       "      <td>False</td>\n",
       "      <td>4bd1bbcf5e0cce726de8a184</td>\n",
       "      <td>56, Sivasamy Road, Ram Nagar</td>\n",
       "      <td>IN</td>\n",
       "      <td>Coimbatore</td>\n",
       "      <td>India</td>\n",
       "      <td>NaN</td>\n",
       "      <td>1049</td>\n",
       "      <td>[56, Sivasamy Road, Ram Nagar, Coimbatore 6410...</td>\n",
       "      <td>[{'label': 'display', 'lat': 11.01046346047451...</td>\n",
       "      <td>11.010463</td>\n",
       "      <td>76.966666</td>\n",
       "      <td>641009</td>\n",
       "      <td>Tamil Nadu</td>\n",
       "      <td>Hotel City Tower</td>\n",
       "      <td>v-1572674497</td>\n",
       "    </tr>\n",
       "    <tr>\n",
       "      <th>1</th>\n",
       "      <td>[{'id': '4bf58dd8d48988d10f941735', 'name': 'I...</td>\n",
       "      <td>False</td>\n",
       "      <td>5393e7b7498e6a4f589039e7</td>\n",
       "      <td>NaN</td>\n",
       "      <td>IN</td>\n",
       "      <td>NaN</td>\n",
       "      <td>India</td>\n",
       "      <td>NaN</td>\n",
       "      <td>394</td>\n",
       "      <td>[India]</td>\n",
       "      <td>[{'label': 'display', 'lat': 11.000498, 'lng':...</td>\n",
       "      <td>11.000498</td>\n",
       "      <td>76.966198</td>\n",
       "      <td>NaN</td>\n",
       "      <td>NaN</td>\n",
       "      <td>Hotel Top in town</td>\n",
       "      <td>v-1572674497</td>\n",
       "    </tr>\n",
       "    <tr>\n",
       "      <th>2</th>\n",
       "      <td>[]</td>\n",
       "      <td>False</td>\n",
       "      <td>51cc01fe498eaace9e568ec6</td>\n",
       "      <td>NaN</td>\n",
       "      <td>IN</td>\n",
       "      <td>Coimbatore</td>\n",
       "      <td>India</td>\n",
       "      <td>NaN</td>\n",
       "      <td>852</td>\n",
       "      <td>[Coimbatore 641114, Tamil Nadu, India]</td>\n",
       "      <td>[{'label': 'display', 'lat': 10.99717395324831...</td>\n",
       "      <td>10.997174</td>\n",
       "      <td>76.969051</td>\n",
       "      <td>641114</td>\n",
       "      <td>Tamil Nadu</td>\n",
       "      <td>Hotel Naveen</td>\n",
       "      <td>v-1572674497</td>\n",
       "    </tr>\n",
       "    <tr>\n",
       "      <th>3</th>\n",
       "      <td>[{'id': '4bf58dd8d48988d1fa931735', 'name': 'H...</td>\n",
       "      <td>False</td>\n",
       "      <td>4bdf2d1f7ea362b5656043c4</td>\n",
       "      <td>No. 355 Variety Hall Road</td>\n",
       "      <td>IN</td>\n",
       "      <td>Coimbatore</td>\n",
       "      <td>India</td>\n",
       "      <td>NaN</td>\n",
       "      <td>406</td>\n",
       "      <td>[No. 355 Variety Hall Road, Coimbatore, Tamil ...</td>\n",
       "      <td>[{'label': 'display', 'lat': 10.99837980131243...</td>\n",
       "      <td>10.998380</td>\n",
       "      <td>76.964106</td>\n",
       "      <td>NaN</td>\n",
       "      <td>Tamil Nadu</td>\n",
       "      <td>Hotel Rathna Residency Coimbatore</td>\n",
       "      <td>v-1572674497</td>\n",
       "    </tr>\n",
       "    <tr>\n",
       "      <th>4</th>\n",
       "      <td>[{'id': '4bf58dd8d48988d1fa931735', 'name': 'H...</td>\n",
       "      <td>False</td>\n",
       "      <td>5d9a248fded319000857fc4e</td>\n",
       "      <td>NaN</td>\n",
       "      <td>IN</td>\n",
       "      <td>Coimbatore</td>\n",
       "      <td>India</td>\n",
       "      <td>NaN</td>\n",
       "      <td>944</td>\n",
       "      <td>[Coimbatore 641002, Tamil Nadu, India]</td>\n",
       "      <td>[{'label': 'display', 'lat': 11.006304, 'lng':...</td>\n",
       "      <td>11.006304</td>\n",
       "      <td>76.955510</td>\n",
       "      <td>641002</td>\n",
       "      <td>Tamil Nadu</td>\n",
       "      <td>Hotel Chola</td>\n",
       "      <td>v-1572674497</td>\n",
       "    </tr>\n",
       "  </tbody>\n",
       "</table>\n",
       "</div>"
      ],
      "text/plain": [
       "                                          categories  hasPerk  \\\n",
       "0  [{'id': '4bf58dd8d48988d1fa931735', 'name': 'H...    False   \n",
       "1  [{'id': '4bf58dd8d48988d10f941735', 'name': 'I...    False   \n",
       "2                                                 []    False   \n",
       "3  [{'id': '4bf58dd8d48988d1fa931735', 'name': 'H...    False   \n",
       "4  [{'id': '4bf58dd8d48988d1fa931735', 'name': 'H...    False   \n",
       "\n",
       "                         id              location.address location.cc  \\\n",
       "0  4bd1bbcf5e0cce726de8a184  56, Sivasamy Road, Ram Nagar          IN   \n",
       "1  5393e7b7498e6a4f589039e7                           NaN          IN   \n",
       "2  51cc01fe498eaace9e568ec6                           NaN          IN   \n",
       "3  4bdf2d1f7ea362b5656043c4     No. 355 Variety Hall Road          IN   \n",
       "4  5d9a248fded319000857fc4e                           NaN          IN   \n",
       "\n",
       "  location.city location.country location.crossStreet  location.distance  \\\n",
       "0    Coimbatore            India                  NaN               1049   \n",
       "1           NaN            India                  NaN                394   \n",
       "2    Coimbatore            India                  NaN                852   \n",
       "3    Coimbatore            India                  NaN                406   \n",
       "4    Coimbatore            India                  NaN                944   \n",
       "\n",
       "                           location.formattedAddress  \\\n",
       "0  [56, Sivasamy Road, Ram Nagar, Coimbatore 6410...   \n",
       "1                                            [India]   \n",
       "2             [Coimbatore 641114, Tamil Nadu, India]   \n",
       "3  [No. 355 Variety Hall Road, Coimbatore, Tamil ...   \n",
       "4             [Coimbatore 641002, Tamil Nadu, India]   \n",
       "\n",
       "                             location.labeledLatLngs  location.lat  \\\n",
       "0  [{'label': 'display', 'lat': 11.01046346047451...     11.010463   \n",
       "1  [{'label': 'display', 'lat': 11.000498, 'lng':...     11.000498   \n",
       "2  [{'label': 'display', 'lat': 10.99717395324831...     10.997174   \n",
       "3  [{'label': 'display', 'lat': 10.99837980131243...     10.998380   \n",
       "4  [{'label': 'display', 'lat': 11.006304, 'lng':...     11.006304   \n",
       "\n",
       "   location.lng location.postalCode location.state  \\\n",
       "0     76.966666              641009     Tamil Nadu   \n",
       "1     76.966198                 NaN            NaN   \n",
       "2     76.969051              641114     Tamil Nadu   \n",
       "3     76.964106                 NaN     Tamil Nadu   \n",
       "4     76.955510              641002     Tamil Nadu   \n",
       "\n",
       "                                name    referralId  \n",
       "0                   Hotel City Tower  v-1572674497  \n",
       "1                  Hotel Top in town  v-1572674497  \n",
       "2                       Hotel Naveen  v-1572674497  \n",
       "3  Hotel Rathna Residency Coimbatore  v-1572674497  \n",
       "4                        Hotel Chola  v-1572674497  "
      ]
     },
     "execution_count": 29,
     "metadata": {},
     "output_type": "execute_result"
    }
   ],
   "source": [
    "locations=results['response']['venues']\n",
    "df=json_normalize(locations)\n",
    "df.head()"
   ]
  },
  {
   "cell_type": "markdown",
   "metadata": {},
   "source": [
    "Cleaning data"
   ]
  },
  {
   "cell_type": "code",
   "execution_count": 78,
   "metadata": {},
   "outputs": [
    {
     "data": {
      "text/html": [
       "<div>\n",
       "<style scoped>\n",
       "    .dataframe tbody tr th:only-of-type {\n",
       "        vertical-align: middle;\n",
       "    }\n",
       "\n",
       "    .dataframe tbody tr th {\n",
       "        vertical-align: top;\n",
       "    }\n",
       "\n",
       "    .dataframe thead th {\n",
       "        text-align: right;\n",
       "    }\n",
       "</style>\n",
       "<table border=\"1\" class=\"dataframe\">\n",
       "  <thead>\n",
       "    <tr style=\"text-align: right;\">\n",
       "      <th></th>\n",
       "      <th>name</th>\n",
       "      <th>categories</th>\n",
       "      <th>address</th>\n",
       "      <th>lat</th>\n",
       "      <th>lng</th>\n",
       "      <th>postalCode</th>\n",
       "      <th>state</th>\n",
       "    </tr>\n",
       "  </thead>\n",
       "  <tbody>\n",
       "    <tr>\n",
       "      <th>7</th>\n",
       "      <td>Hotel Park Plaza</td>\n",
       "      <td>Hotel</td>\n",
       "      <td>90 / 62, Geetha Hall Road</td>\n",
       "      <td>10.998027</td>\n",
       "      <td>76.969980</td>\n",
       "      <td>641018</td>\n",
       "      <td>Tamil Nadu</td>\n",
       "    </tr>\n",
       "    <tr>\n",
       "      <th>17</th>\n",
       "      <td>Hotel Hem</td>\n",
       "      <td>Motel</td>\n",
       "      <td>21,Geetha Hall Road</td>\n",
       "      <td>10.996965</td>\n",
       "      <td>76.968611</td>\n",
       "      <td>641018</td>\n",
       "      <td>Tamil Nadu</td>\n",
       "    </tr>\n",
       "  </tbody>\n",
       "</table>\n",
       "</div>"
      ],
      "text/plain": [
       "                name categories                    address        lat  \\\n",
       "7   Hotel Park Plaza      Hotel  90 / 62, Geetha Hall Road  10.998027   \n",
       "17         Hotel Hem      Motel        21,Geetha Hall Road  10.996965   \n",
       "\n",
       "          lng postalCode       state  \n",
       "7   76.969980     641018  Tamil Nadu  \n",
       "17  76.968611     641018  Tamil Nadu  "
      ]
     },
     "execution_count": 78,
     "metadata": {},
     "output_type": "execute_result"
    }
   ],
   "source": [
    "clean_columns = ['name', 'categories'] + [col for col in df.columns if col.startswith('location.')]+ ['id']\n",
    "df2 = df.loc[:,clean_columns]\n",
    "def get_category_type(row):\n",
    "    try:\n",
    "        categories_list = row['categories']\n",
    "    except:\n",
    "        categories_list = row['venue.categories']\n",
    "        \n",
    "    if len(categories_list) == 0:\n",
    "        return None\n",
    "    else:\n",
    "        return categories_list[0]['name']\n",
    "\n",
    "df2['categories'] = df2.apply(get_category_type, axis=1)\n",
    "df2.columns = [column.split('.')[-1] for column in df2.columns]\n",
    "\n",
    "#dropping unnecessary cols\n",
    "df22= df2.drop(['cc', 'city', 'country', 'crossStreet', 'distance', 'formattedAddress',\\\n",
    "                                        'labeledLatLngs', 'id'], axis=1)\n",
    "#dropping values with NA\n",
    "df23 = df22.dropna(axis=0, how='any', thresh=None, subset=None, inplace=False)\n",
    "\n",
    "#only hotels and motels categories\n",
    "items= ['Hotel', 'Motel']\n",
    "df24=df23.loc[df23['categories'].isin(items)]\n",
    "\n",
    "#replacing pincode 18 to standard 641018 value\n",
    "df24=df24.replace(to_replace =\"18\",  \n",
    "                            value =\"641018\") \n",
    "\n",
    "\n",
    "#choosing Motel Hem as my location\n",
    "#choosing the hotel that has same pincode as 'Hotel Hem (Motal)'\n",
    "resultdf=df24[df24.postalCode == '641018']\n",
    "resultdf"
   ]
  },
  {
   "cell_type": "markdown",
   "metadata": {},
   "source": [
    "# MAP to visualize hotels near my location(Hotel Park Plaza)"
   ]
  },
  {
   "cell_type": "code",
   "execution_count": 79,
   "metadata": {},
   "outputs": [
    {
     "data": {
      "text/html": [
       "<div style=\"width:100%;\"><div style=\"position:relative;width:100%;height:0;padding-bottom:60%;\"><iframe src=\"data:text/html;charset=utf-8;base64,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\" style=\"position:absolute;width:100%;height:100%;left:0;top:0;border:none !important;\" allowfullscreen webkitallowfullscreen mozallowfullscreen></iframe></div></div>"
      ],
      "text/plain": [
       "<folium.folium.Map at 0x2144e215c50>"
      ]
     },
     "execution_count": 79,
     "metadata": {},
     "output_type": "execute_result"
    }
   ],
   "source": [
    "map=folium.Map(location=[latitude, longitude], zoom_start=14)\n",
    "\n",
    "for lat, lng, name, categories, address in zip(resultdf['lat'], resultdf['lng'], \n",
    "                                           resultdf['name'], resultdf['categories'],\\\n",
    "                                               resultdf['address']):\n",
    "    label = '{}, {}'.format(name, address)\n",
    "    label = folium.Popup(label, parse_html=True)\n",
    "    folium.CircleMarker(\n",
    "        [lat, lng],\n",
    "        radius=5,\n",
    "        popup=label,\n",
    "        color='blue',\n",
    "        fill=True,\n",
    "        fill_color='blue',\n",
    "        fill_opacity=0.7,\n",
    "        parse_html=False).add_to(map)  \n",
    "    \n",
    "map"
   ]
  },
  {
   "cell_type": "markdown",
   "metadata": {},
   "source": [
    "gitHub does not support displaying the map.\n",
    "Kindly find the map image file at my repository titled 'HotelMap'\n",
    "Thanks in advance."
   ]
  },
  {
   "cell_type": "code",
   "execution_count": null,
   "metadata": {},
   "outputs": [],
   "source": []
  }
 ],
 "metadata": {
  "kernelspec": {
   "display_name": "Python 3",
   "language": "python",
   "name": "python3"
  },
  "language_info": {
   "codemirror_mode": {
    "name": "ipython",
    "version": 3
   },
   "file_extension": ".py",
   "mimetype": "text/x-python",
   "name": "python",
   "nbconvert_exporter": "python",
   "pygments_lexer": "ipython3",
   "version": "3.7.1"
  }
 },
 "nbformat": 4,
 "nbformat_minor": 2
}
